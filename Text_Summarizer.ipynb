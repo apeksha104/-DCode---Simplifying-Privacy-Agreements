{
  "nbformat": 4,
  "nbformat_minor": 0,
  "metadata": {
    "colab": {
      "name": "Text_Summarizer.ipynb",
      "provenance": [],
      "include_colab_link": true
    },
    "kernelspec": {
      "name": "python3",
      "display_name": "Python 3"
    },
    "language_info": {
      "name": "python"
    }
  },
  "cells": [
    {
      "cell_type": "markdown",
      "metadata": {
        "id": "view-in-github",
        "colab_type": "text"
      },
      "source": [
        "<a href=\"https://colab.research.google.com/github/apeksha104/-DCode---Simplifying-Privacy-Agreements/blob/main/Text_Summarizer.ipynb\" target=\"_parent\"><img src=\"https://colab.research.google.com/assets/colab-badge.svg\" alt=\"Open In Colab\"/></a>"
      ]
    },
    {
      "cell_type": "code",
      "metadata": {
        "id": "0a0t3MeHIYrV"
      },
      "source": [
        ""
      ],
      "execution_count": null,
      "outputs": []
    },
    {
      "cell_type": "markdown",
      "metadata": {
        "id": "mdE2en7y9zH8"
      },
      "source": [
        "# Document Summarization\n",
        "\n",
        "The idea of document summarization is a\n",
        "bit different from keyphrase extraction or topic modeling. In this case, the end result\n",
        "is still in the form of some document, but with a few sentences based on the length we\n",
        "might want the summary to be. This is similar to an abstract or an executive summary\n",
        "in a research paper. The main objective of automated document summarization is\n",
        "to perform this summarization without involving human input, except for running\n",
        "computer programs. Mathematical and statistical models help in building and\n",
        "automating the task of summarizing documents by observing their content and context.\n",
        "\n",
        "There are two broad approaches to document summarization using automated\n",
        "techniques. They are described as follows:\n",
        "- __Extraction-based techniques:__ These methods use mathematical\n",
        "and statistical concepts like SVD to extract some key subset of the\n",
        "content from the original document such that this subset of content\n",
        "contains the core information and acts as the focal point of the entire\n",
        "document. This content can be words, phrases, or even sentences.\n",
        "The end result from this approach is a short executive summary of a\n",
        "couple of lines extracted from the original document. No new content\n",
        "is generated in this technique, hence the name extraction-based.\n",
        "- __Abstraction-based techniques:__ These methods are more complex\n",
        "and sophisticated. They leverage language semantics to create\n",
        "representations and use natural language generation (NLG)\n",
        "techniques where the machine uses knowledge bases and semantic\n",
        "representations to generate text on its own and create summaries\n",
        "just like a human would write them. Thanks to deep learning, we can\n",
        "implement these techniques easily but they require a lot of data and\n",
        "compute.\n",
        "\n",
        "We will cover extraction based methods here due to constraints of needed a lot of data + compute for abstraction based methods. But you can leverage the seq2seq models you learnt in language translation on an appropriate dataset to build deep learning based abstractive summarizers"
      ]
    },
    {
      "cell_type": "code",
      "metadata": {
        "colab": {
          "base_uri": "https://localhost:8080/"
        },
        "id": "7TKqj2jxDWjN",
        "outputId": "fe5d8616-4131-4bb4-aa6b-d4af326d3098"
      },
      "source": [
        "import nltk\n",
        "nltk.download('punkt')\n",
        "nltk.download('stopwords')"
      ],
      "execution_count": null,
      "outputs": [
        {
          "output_type": "stream",
          "name": "stdout",
          "text": [
            "[nltk_data] Downloading package punkt to /root/nltk_data...\n",
            "[nltk_data]   Unzipping tokenizers/punkt.zip.\n",
            "[nltk_data] Downloading package stopwords to /root/nltk_data...\n",
            "[nltk_data]   Unzipping corpora/stopwords.zip.\n"
          ]
        },
        {
          "output_type": "execute_result",
          "data": {
            "text/plain": [
              "True"
            ]
          },
          "metadata": {},
          "execution_count": 1
        }
      ]
    },
    {
      "cell_type": "code",
      "metadata": {
        "id": "-sSrjtPxCZeq"
      },
      "source": [
        "DOCUMENT = \"\"\"\n",
        "The Adobe Privacy Policy describes the privacy practices of Adobe apps and websites. If you are a resident of North America, your relationship is with Adobe Inc and the laws of California and the United States apply.\n",
        "If you reside outside of North America, your relationship is with Adobe Systems Software Ireland Limited, which is the controller with regard to your personal information collected by Adobe and the laws of Ireland apply. \n",
        "Please note that in order to use our apps and websites, you authorise Adobe to transfer your personal information across national borders and to other countries where Adobe and its partners operate, including the United States. \n",
        "The privacy protections and rights of authorities to access your information in these countries may not be equivalent to those in your country.\n",
        "We will only transfer your personal information to these countries where permitted to do so by law and we will take steps intended to ensure that your personal information continues to receive appropriate protections. \n",
        "If the content or information that you store on Adobe apps or websites contains personal information of other individuals, you must be legally permitted to share the personal information with Adobe. We will obtain your permission before sending you news and promotional material about Adobe, accessing information stored on your device relating to your use and engagement with, websites and apps and crash reports, and analysing your content. \n",
        "You can withdraw your consent to such activities at any time. This policy explains when we process personal information for our legitimate interests. You can ask us to stop processing this information. We use your personal information to enable you to register with Adobe and to provide you with our websites and apps and other products or services that you request. We provide interactive features that engage with social media sites, such as Facebook.\n",
        "If you use these features, these sites will send us personal information about you. We use cookies and other technologies to track the use of our websites and apps. There are several places within Adobes websites and apps that allow you to post comments, upload pictures or submit content which will be publicly available where you choose to participate in these activities. We also disclose personal information to other companies in the Adobe family and with advertising and sales partners consistent with your choices. \n",
        "We also share information with third parties we engage to process personal information on our behalf or when such sharing is required by law or in certain other situations. \n",
        "We transfer your personal information to the US and other countries, which may be outside the country in which you live. We use government approved contractual clauses such as European Commission approved Standard Contractual Clauses to help protect your personal information. \n",
        "This privacy policy describes how Adobe will make use of your information in the context of Adobe websites, webbased services such as Behance, and webbased aspects of the Creative Cloud, Document Cloud and Experience Cloud, Desktop apps and mobile apps that include a reference to this policy, and Adobes marketing, sales and advertising practices. Please note that websites and apps provided by some companies acquired by Adobe may operate under their own privacy policies until their privacy practices are integrated with Adobes privacy practices. When you register to use an Adobe app or website, create an Adobe ID or contact us for support or other offerings, Adobe collects information that identifies you. To help keep our databases current and to provide you the most relevant content and experiences, we may combine information provided by you with information from third party sources, in accordance with applicable law. For example, the size, industry and other information about the company you work for will be obtained from sources including, professional networking sites and information service providers. We may also collect and receive information from third parties, including partners and from publicly accessible sources, for purposes that include to detect, prevent or otherwise address fraud, security or technical issues, as well as to protect against harm to the rights, property or safety of Adobe and our employees, our users, children or the public. We collect information about how you use our apps and websites, including when you use a desktop app feature that takes you online. Depending on the app or website, this information may be associated with your device or browser or it may be associated with your Adobe account. It includes IP address, Type of browser and device, Webpage that led you to an Adobe website, Search terms entered into a search engine which lead you to an Adobe website, Use and navigation of websites and apps, Analysis of your content which is sent or received using an online feature of an Adobe app or website or which is stored on Adobe servers. When you activate your Adobe app or when you install updates to the app, we collect information about your device, the Adobe app, your product serial number. Emails we send you may include a technology that tells Adobe whether you have received or opened the email or clicked a link in the email. If you do not want us to collect this information, you can opt out of receiving Adobe marketing emails. Adobe advertises online in a variety of ways, including displaying Adobe ads to you on other companies websites and apps and on social media platforms, such as Facebook and LinkedIn. Adobe websites use cookies and similar technologies provided by our own company and other companies that allow us to gather additional information to measure and improve the effectiveness of our advertising. Adobe apps and websites may include buttons, tools or content that link to other companies services. We may collect information about your use of these features, such as content liked and address information in Google Maps. In addition, when you see or interact with these buttons, tools or content or view an Adobe web page or app containing them, some information from your browser may automatically be sent to the other company. Please read that company privacy policy for more information. Adobe websites may implement Google reCAPTCHA Enterprise to help prevent spam and abuse. reCAPTCHA Enterprise collects hardware and software information, such as device and application data and sends it to Google for purposes of providing, maintaining and improving reCAPTCHA Enterprise and for general security purposes. This information is not used by Google for personalised advertising. You can sign in to some Adobe apps or websites using a social networking account, such as a Facebook account. Where you give appropriate permissions, we will receive information about you from your social networking account, such as name, location and basic demographic information. Adobe has its own pages on many social networking sites. We will collect information which you have made publicly available on your social networking account, such as name and interests in our products and services, when you interact with our social networking pages. The social networking sites may provide statistics and insights to Adobe which help us to understand the types of actions that people take on our pages. Where applicable, Adobe and the social media site have entered into an arrangement which determines our respective responsibilities. In certain instances, Adobe is acting only on your behalf for personal information collected and processed by our services. In such cases, Adobe is acting only on your instructions in order to facilitate the service requested by you and you will be responsible for the information shared. In these instances, we will inform you through inapp notifications or other intime communications. Where we process your information based on legitimate interests, you can object to this processing in certain circumstances. In such cases, we will cease processing information unless we have compelling legitimate grounds to continue processing or where it is needed for legal reasons. Where this processing and these disclosures are not strictly required by law, Adobe may rely on its legitimate interests and those of third parties described above. We will share your personal information within the Adobe family of companies for the purposes identified above. We will also share your personal information with other thirdparty data controllers. The types of third parties your information may be shared with include our resellers and other sales and advertising partners, retailers, research organisations, advertisers, advertising agencies, advertising networks and platforms, information service providers, fraud monitoring and prevention providers, publishers and nonprofit organization with your consent, if required. Thirdparty data controllers may also use Adobe products and services to collect and process your personal information. If you are using an email address that is associated with a business domain to access Adobes apps and websites or if you were invited to use the apps and websites by a business, we may provide your personal information to that business. We will also share your personal information with companies that help us to run our business by processing personal information on behalf of Adobe for the purposes identified above. Such companies include providers of customer support services, payment processing services, fraud monitoring and prevention, email, social media and other marketing platforms and service providers and hosting services. We require these companies to protect your personal information consistent with this Privacy Policy. We may share or publish aggregate information that doesnt specifically identify you, such as statistical information about visitors to our websites. There are several places within Adobes websites and apps that allow you to post comments, upload pictures or submit content for others to see. Sometimes you can limit who can see what you share, but there are some places where what you share can be seen by the general public or other users of the app or website. Please be careful when you share your personal information. Do not share anything you wouldnt want publicly known unless you are sure you are posting it within an app or website that allows you to control who sees what you post. Please note that when you post messages on certain user forums on our websites and app, your email address or name andor profile photo may be included and displayed with your message. To remove content you have shared on our websites and apps, please use the same app or website feature you used to share the content. If another user invites you to participate in shared viewing, editing or commenting of content, you may be able to delete your contributions, but usually the user who invited you has full control. We work hard to protect your personal information. We employ administrative, technical and physical security controls where appropriate, such as encryption, step verification and strict contractual confidentiality obligations for employees and contractors. Your personal information and files are stored on Adobes servers and the servers of companies we hire to provide services to us. The main locations where we process your personal information are the US and India, but we also transfer personal information to all other countries in the world where our apps and other products or services are available. We carry out these transfers in compliance with applicable laws for example, by putting data transfer agreements in place to help protect your personal information. If you reside outside of North America, your relationship is with Adobe Ireland. Where Adobe Ireland transfers your personal information to a country which is not within the EEA and is not subject to an adequacy decision by the EU Commission, we rely on one or more of the following legal mechanisms European Commission approved Standard Contractual Clauses andor your consent in certain circumstances. A copy of the relevant mechanism can be provided for your review upon request, using the contact details provided at the end of this Privacy Policy. The information above applies to Adobe users who are consumers. Under the law of some jurisdictions, you may have the right to ask us for a copy of your personal information, to correct, delete or restrict processing of your personal information, and to obtain the personal information you provide to us for a contract or with your consent in a structured, machine readable format and to ask us to share this information to another controller. In addition, you can object to the processing of your personal information in some circumstances. These rights may be limited, for example, if fulfilling your request would reveal personal information about another person or if you ask us to delete information which we are required by law to keep or which we need to defend claims against us. In addition, most web browsers have a Do Not Track feature that lets you tell websites you do not want to have your online activities tracked. Currently, there is not an accepted standard on how companies should respond to web browsers Do Not Track signals. Accordingly, our apps and websites do not currently recognise or respond to Do Not Track browser signals. To exercise any of these rights, you can get in touch with us or our data protection officer using the details set out below. Additionally, many of our websites and apps allow you to edit your personal information by accessing the my profile, or a similar feature of the app or website you are using. Likewise, you can delete files or photos you have stored in our websites and apps by logging in and using the deletion functions that are available. If you have unresolved concerns, you have the right to report them to your local privacy regulator or data protection authority and, where applicable, you also have the right to lodge a complaint with Adobe Irelands lead supervisory authority, the Irish Data Protection Commission. To register with Adobe, to create an Adobe ID and to use some Adobe websites, apps, products or services, the provision of some information is mandatory if relevant information is not provided, then we will not be able to administer an Adobe account to you or provide you with the websites, apps, products or services requested. All other provision of your information is optional. Providing optional information will help us to offer you a better experience, such as more personalised or tailored content or offerings. Where we rely on your consent, you will always be able to withdraw that consent, although we may have other legal grounds for processing your information for other purposes, such as those set out above. In some cases, we are able to send you direct marketing without your consent, where we rely on our legitimate interests. Adobe Experience Cloud solutions help our business customers personalise and improve the performance of their websites, apps and marketing messages. For example, these customers may use Adobe Experience Cloud solutions to collect and analyse information about how individuals use their websites. The information collected is stored in our services on behalf of and for use by these business customers. When you register for an account and create an Adobe ID, we process and keep most personal information we have about you for as long as you are an active user of our products, services or apps. When you close your account, we begin deleting certain personal information that we no longer have a business reason to retain, such as your hashed password and your tokenised payment account data. However, we typically retain personal information related to our contract and business transactions with you for ten years after your last interaction with us. Where we process personal information for marketing purposes or with your consent, we process the information until you ask us to stop and for a short period after this. We also keep a permanent record of the fact that you have asked us not to send you direct marketing or to process your information so that we can respect your request in future. Occasionally, we may update this privacy policy to allow Adobe to accommodate new technologies, industry practices, regulatory requirements or for other purposes. If we do, we will change the last updated date at the top of this policy and the revised policy will be posted to this page so that you are aware of the information we collect, how we use it and under what circumstances we may disclose it.\n",
        "\"\"\""
      ],
      "execution_count": null,
      "outputs": []
    },
    {
      "cell_type": "code",
      "metadata": {
        "id": "-Sp4ZBphDBTy"
      },
      "source": [
        "import re\n",
        "\n",
        "DOCUMENT = re.sub(r'\\n|\\r', ' ', DOCUMENT)\n",
        "DOCUMENT = re.sub(r' +', ' ', DOCUMENT)\n",
        "DOCUMENT = DOCUMENT.strip()"
      ],
      "execution_count": null,
      "outputs": []
    },
    {
      "cell_type": "markdown",
      "metadata": {
        "id": "Mr-q510T9zIN"
      },
      "source": [
        "# Summarization with Gensim\n",
        "\n",
        "Let’s look at an implementation of document summarization by leveraging Gensim’s\n",
        "summarization module. It is pretty straightforward."
      ]
    },
    {
      "cell_type": "code",
      "metadata": {
        "colab": {
          "base_uri": "https://localhost:8080/"
        },
        "id": "fJfaklbaDGm3",
        "outputId": "bfe2cf7a-ad34-4c86-97f9-20ebf5899c80"
      },
      "source": [
        "from gensim.summarization import summarize\n",
        "ans = summarize(DOCUMENT, ratio=0.2, split=False)\n",
        "print(summarize(DOCUMENT, ratio=0.2, split=False))"
      ],
      "execution_count": null,
      "outputs": [
        {
          "output_type": "stream",
          "name": "stdout",
          "text": [
            "If you reside outside of North America, your relationship is with Adobe Systems Software Ireland Limited, which is the controller with regard to your personal information collected by Adobe and the laws of Ireland apply.\n",
            "Please note that in order to use our apps and websites, you authorise Adobe to transfer your personal information across national borders and to other countries where Adobe and its partners operate, including the United States.\n",
            "We will obtain your permission before sending you news and promotional material about Adobe, accessing information stored on your device relating to your use and engagement with, websites and apps and crash reports, and analysing your content.\n",
            "We use your personal information to enable you to register with Adobe and to provide you with our websites and apps and other products or services that you request.\n",
            "There are several places within Adobes websites and apps that allow you to post comments, upload pictures or submit content which will be publicly available where you choose to participate in these activities.\n",
            "This privacy policy describes how Adobe will make use of your information in the context of Adobe websites, webbased services such as Behance, and webbased aspects of the Creative Cloud, Document Cloud and Experience Cloud, Desktop apps and mobile apps that include a reference to this policy, and Adobes marketing, sales and advertising practices.\n",
            "When you register to use an Adobe app or website, create an Adobe ID or contact us for support or other offerings, Adobe collects information that identifies you.\n",
            "We may also collect and receive information from third parties, including partners and from publicly accessible sources, for purposes that include to detect, prevent or otherwise address fraud, security or technical issues, as well as to protect against harm to the rights, property or safety of Adobe and our employees, our users, children or the public.\n",
            "Adobe advertises online in a variety of ways, including displaying Adobe ads to you on other companies websites and apps and on social media platforms, such as Facebook and LinkedIn. Adobe websites use cookies and similar technologies provided by our own company and other companies that allow us to gather additional information to measure and improve the effectiveness of our advertising.\n",
            "Adobe apps and websites may include buttons, tools or content that link to other companies services.\n",
            "In addition, when you see or interact with these buttons, tools or content or view an Adobe web page or app containing them, some information from your browser may automatically be sent to the other company.\n",
            "In certain instances, Adobe is acting only on your behalf for personal information collected and processed by our services.\n",
            "We will share your personal information within the Adobe family of companies for the purposes identified above.\n",
            "Thirdparty data controllers may also use Adobe products and services to collect and process your personal information.\n",
            "If you are using an email address that is associated with a business domain to access Adobes apps and websites or if you were invited to use the apps and websites by a business, we may provide your personal information to that business.\n",
            "We will also share your personal information with companies that help us to run our business by processing personal information on behalf of Adobe for the purposes identified above.\n",
            "We require these companies to protect your personal information consistent with this Privacy Policy.\n",
            "Your personal information and files are stored on Adobes servers and the servers of companies we hire to provide services to us.\n",
            "The information collected is stored in our services on behalf of and for use by these business customers.\n",
            "When you register for an account and create an Adobe ID, we process and keep most personal information we have about you for as long as you are an active user of our products, services or apps.\n"
          ]
        }
      ]
    },
    {
      "cell_type": "code",
      "metadata": {
        "colab": {
          "base_uri": "https://localhost:8080/"
        },
        "id": "7H83_YvADI2j",
        "outputId": "18d3f582-9255-43c1-ba21-7185cca72407"
      },
      "source": [
        "print(summarize(DOCUMENT, word_count=120, split=False))"
      ],
      "execution_count": null,
      "outputs": [
        {
          "output_type": "stream",
          "name": "stdout",
          "text": [
            "We will obtain your permission before sending you news and promotional material about Adobe, accessing information stored on your device relating to your use and engagement with, websites and apps and crash reports, and analysing your content.\n",
            "We use your personal information to enable you to register with Adobe and to provide you with our websites and apps and other products or services that you request.\n",
            "We may also collect and receive information from third parties, including partners and from publicly accessible sources, for purposes that include to detect, prevent or otherwise address fraud, security or technical issues, as well as to protect against harm to the rights, property or safety of Adobe and our employees, our users, children or the public.\n",
            "Thirdparty data controllers may also use Adobe products and services to collect and process your personal information.\n"
          ]
        }
      ]
    },
    {
      "cell_type": "markdown",
      "metadata": {
        "id": "Xq3mUA5Guc8T"
      },
      "source": [
        ""
      ]
    },
    {
      "cell_type": "code",
      "metadata": {
        "colab": {
          "base_uri": "https://localhost:8080/",
          "height": 178
        },
        "id": "N4ObNmxqDL1N",
        "outputId": "f0165dde-cb48-49d9-d3cd-1b59052cb20d"
      },
      "source": [
        "sentences = nltk.sent_tokenize(DOCUMENT)\n",
        "len(sentences)\n"
      ],
      "execution_count": null,
      "outputs": [
        {
          "output_type": "error",
          "ename": "NameError",
          "evalue": "ignored",
          "traceback": [
            "\u001b[0;31m---------------------------------------------------------------------------\u001b[0m",
            "\u001b[0;31mNameError\u001b[0m                                 Traceback (most recent call last)",
            "\u001b[0;32m<ipython-input-10-e951d4022689>\u001b[0m in \u001b[0;36m<module>\u001b[0;34m()\u001b[0m\n\u001b[0;32m----> 1\u001b[0;31m \u001b[0msentences\u001b[0m \u001b[0;34m=\u001b[0m \u001b[0mnltk\u001b[0m\u001b[0;34m.\u001b[0m\u001b[0msent_tokenize\u001b[0m\u001b[0;34m(\u001b[0m\u001b[0mDOCUMENT\u001b[0m\u001b[0;34m)\u001b[0m\u001b[0;34m\u001b[0m\u001b[0;34m\u001b[0m\u001b[0m\n\u001b[0m\u001b[1;32m      2\u001b[0m \u001b[0mlen\u001b[0m\u001b[0;34m(\u001b[0m\u001b[0msentences\u001b[0m\u001b[0;34m)\u001b[0m\u001b[0;34m\u001b[0m\u001b[0;34m\u001b[0m\u001b[0m\n",
            "\u001b[0;31mNameError\u001b[0m: name 'nltk' is not defined"
          ]
        }
      ]
    },
    {
      "cell_type": "code",
      "metadata": {
        "id": "qHgt_RacH5QU",
        "colab": {
          "base_uri": "https://localhost:8080/",
          "height": 178
        },
        "outputId": "209045a4-0468-4a7f-83c3-13198d3e99e5"
      },
      "source": [
        "sentences = nltk.sent_tokenize(ans)\n",
        "len(sentences)"
      ],
      "execution_count": null,
      "outputs": [
        {
          "output_type": "error",
          "ename": "NameError",
          "evalue": "ignored",
          "traceback": [
            "\u001b[0;31m---------------------------------------------------------------------------\u001b[0m",
            "\u001b[0;31mNameError\u001b[0m                                 Traceback (most recent call last)",
            "\u001b[0;32m<ipython-input-11-b09fffefc83e>\u001b[0m in \u001b[0;36m<module>\u001b[0;34m()\u001b[0m\n\u001b[0;32m----> 1\u001b[0;31m \u001b[0msentences\u001b[0m \u001b[0;34m=\u001b[0m \u001b[0mnltk\u001b[0m\u001b[0;34m.\u001b[0m\u001b[0msent_tokenize\u001b[0m\u001b[0;34m(\u001b[0m\u001b[0mans\u001b[0m\u001b[0;34m)\u001b[0m\u001b[0;34m\u001b[0m\u001b[0;34m\u001b[0m\u001b[0m\n\u001b[0m\u001b[1;32m      2\u001b[0m \u001b[0mlen\u001b[0m\u001b[0;34m(\u001b[0m\u001b[0msentences\u001b[0m\u001b[0;34m)\u001b[0m\u001b[0;34m\u001b[0m\u001b[0;34m\u001b[0m\u001b[0m\n",
            "\u001b[0;31mNameError\u001b[0m: name 'nltk' is not defined"
          ]
        }
      ]
    },
    {
      "cell_type": "markdown",
      "metadata": {
        "id": "2WckFD17KUEt"
      },
      "source": [
        "## ** CODE FOR ANSWERS COMPARATOR **"
      ]
    },
    {
      "cell_type": "code",
      "metadata": {
        "id": "uBXcE54CGc4Z",
        "colab": {
          "base_uri": "https://localhost:8080/"
        },
        "outputId": "0e222614-16ba-4003-eefd-1829f5588777"
      },
      "source": [
        "import string\n",
        "from sklearn.metrics.pairwise import cosine_similarity\n",
        "from sklearn.feature_extraction.text import CountVectorizer\n",
        "from nltk.corpus import stopwords\n",
        "stopwords = stopwords.words('english')\n",
        "from textblob import TextBlob\n",
        "\n",
        "text = \"My name is Preet and I am a boy.\"\n",
        "text1 = \"My name is Preet and I am not a boy.\"\n",
        "blob = TextBlob(text)\n",
        "blob1 = TextBlob(text1)\n",
        "for s1 in blob.sentences:\n",
        "    val1 = s1.sentiment.polarity\n",
        "for s2 in blob1.sentences:\n",
        "    val2 = s2.sentiment.polarity\n",
        "\n",
        "print(val1)\n",
        "print(val2)\n",
        "\n",
        "def clean_string(tex):\n",
        "    tex = ''.join([word for word in tex if word not in string.punctuation])\n",
        "    tex = tex.lower()\n",
        "    tex = ' '.join([word for word in tex.split() if word not in stopwords])\n",
        "    return tex\n",
        "\n",
        "def cosine_sim_vectors(vec1, vec2):\n",
        "        vec1 = vec1.reshape(1,-1)\n",
        "        vec2 = vec2.reshape(1,-1)\n",
        "    \n",
        "        return cosine_similarity(vec1, vec2)[0][0]\n",
        "\n",
        "sen = []\n",
        "\n",
        "if val1 >=0 and val2 >= 0:    \n",
        "    sen.append(text)\n",
        "    sen.append(text1)\n",
        "    cleaned = list(map(clean_string, sen))\n",
        "\n",
        "    print(sen)   \n",
        "    print(*cleaned)\n",
        "\n",
        "    vectorizer = CountVectorizer().fit_transform(cleaned)\n",
        "    vectors = vectorizer.toarray()\n",
        "    print(vectors)\n",
        "\n",
        "    csim = cosine_similarity(vectors)\n",
        "    print(csim)\n",
        "    print(cosine_sim_vectors(vectors[0],vectors[1]))"
      ],
      "execution_count": null,
      "outputs": [
        {
          "output_type": "stream",
          "name": "stdout",
          "text": [
            "0.0\n",
            "0.0\n",
            "['My name is Preet and I am a boy.', 'My name is Preet and I am not a boy.']\n",
            "name preet boy name preet boy\n",
            "[[1 1 1]\n",
            " [1 1 1]]\n",
            "[[1. 1.]\n",
            " [1. 1.]]\n",
            "1.0000000000000002\n"
          ]
        }
      ]
    }
  ]
}